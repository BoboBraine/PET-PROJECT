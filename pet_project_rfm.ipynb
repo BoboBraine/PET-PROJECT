{
 "cells": [
  {
   "cell_type": "markdown",
   "id": "44b75e4e",
   "metadata": {},
   "source": [
    "Стоит задача по увеличению LTV за счет уменьшения оттока пользователей и увеличения частоты контакта. \n",
    " \n",
    "Необходимо провести исследование и ответить на вопрос, каким способом можно достичь указанной цели.\n",
    "\n",
    "Нужно сделать RFM-анализ и подготовить рекомендации команде сервиса. "
   ]
  },
  {
   "cell_type": "code",
   "execution_count": 1,
   "id": "ccf256a2",
   "metadata": {},
   "outputs": [],
   "source": [
    "import pandas as pd\n",
    "import seaborn as sns\n",
    "from datetime import timedelta"
   ]
  },
  {
   "cell_type": "markdown",
   "id": "94594015",
   "metadata": {},
   "source": [
    "Дан tsv файл запакованный в архив.\n",
    "\n",
    "Колонки файла представлены:\n",
    "\n",
    "timestamp хита \n",
    "\n",
    "user_id\n",
    "\n",
    "url - url хита или \"click\", если пользователь перешел в интернет-магазин \n",
    "\n",
    "geo_id - идентификатор региона пользователя \n",
    "\n",
    "category - идентификатор категории \n",
    "\n",
    "price - стоимость клика, если пользователь перешел в интернет-магазин"
   ]
  },
  {
   "cell_type": "code",
   "execution_count": 2,
   "id": "e114af7a",
   "metadata": {},
   "outputs": [
    {
     "name": "stderr",
     "output_type": "stream",
     "text": [
      "C:\\Users\\User\\AppData\\Local\\Temp\\ipykernel_14652\\1411565926.py:1: DtypeWarning: Columns (3,4) have mixed types. Specify dtype option on import or set low_memory=False.\n",
      "  rfm = pd.read_csv('rfm.tar.gz', compression = 'gzip', encoding = 'unicode_escape', sep = '\\t',\n"
     ]
    }
   ],
   "source": [
    "rfm = pd.read_csv('rfm.tar.gz', compression = 'gzip', encoding = 'unicode_escape', sep = '\\t',\n",
    "                  header = 0, names = ['timestamp', 'user_id', 'URL_click', 'geo_id', 'category_id', 'price'], \n",
    "                  usecols = [0, 1, 2, 3, 4, 5])"
   ]
  },
  {
   "cell_type": "code",
   "execution_count": 3,
   "id": "9a6c6993",
   "metadata": {
    "scrolled": false
   },
   "outputs": [
    {
     "data": {
      "text/html": [
       "<div>\n",
       "<style scoped>\n",
       "    .dataframe tbody tr th:only-of-type {\n",
       "        vertical-align: middle;\n",
       "    }\n",
       "\n",
       "    .dataframe tbody tr th {\n",
       "        vertical-align: top;\n",
       "    }\n",
       "\n",
       "    .dataframe thead th {\n",
       "        text-align: right;\n",
       "    }\n",
       "</style>\n",
       "<table border=\"1\" class=\"dataframe\">\n",
       "  <thead>\n",
       "    <tr style=\"text-align: right;\">\n",
       "      <th></th>\n",
       "      <th>timestamp</th>\n",
       "      <th>user_id</th>\n",
       "      <th>URL_click</th>\n",
       "      <th>geo_id</th>\n",
       "      <th>category_id</th>\n",
       "      <th>price</th>\n",
       "    </tr>\n",
       "  </thead>\n",
       "  <tbody>\n",
       "    <tr>\n",
       "      <th>0</th>\n",
       "      <td>1.375704e+09</td>\n",
       "      <td>00003cb9076039f584a12c2036fd3602</td>\n",
       "      <td>/gate/cart-list.xml?sk=y5fc6079b758f5a4e3646a8...</td>\n",
       "      <td>10000</td>\n",
       "      <td>NaN</td>\n",
       "      <td>NaN</td>\n",
       "    </tr>\n",
       "    <tr>\n",
       "      <th>1</th>\n",
       "      <td>1.374480e+09</td>\n",
       "      <td>00003cb9076039f584a12c2036fd3602</td>\n",
       "      <td>/gate/cart-list.xml?sk=yd6558780959d5130b32e1a...</td>\n",
       "      <td>10000</td>\n",
       "      <td>NaN</td>\n",
       "      <td>NaN</td>\n",
       "    </tr>\n",
       "    <tr>\n",
       "      <th>2</th>\n",
       "      <td>1.374480e+09</td>\n",
       "      <td>00003cb9076039f584a12c2036fd3602</td>\n",
       "      <td>/gate/cart-list.xml?sk=yd6558780959d5130b32e1a...</td>\n",
       "      <td>10000</td>\n",
       "      <td>NaN</td>\n",
       "      <td>NaN</td>\n",
       "    </tr>\n",
       "    <tr>\n",
       "      <th>3</th>\n",
       "      <td>1.374480e+09</td>\n",
       "      <td>00003cb9076039f584a12c2036fd3602</td>\n",
       "      <td>/gate/cart-list.xml?sk=yd6558780959d5130b32e1a...</td>\n",
       "      <td>10000</td>\n",
       "      <td>NaN</td>\n",
       "      <td>NaN</td>\n",
       "    </tr>\n",
       "    <tr>\n",
       "      <th>4</th>\n",
       "      <td>1.374480e+09</td>\n",
       "      <td>00003cb9076039f584a12c2036fd3602</td>\n",
       "      <td>/gate/cart-list.xml?sk=yd6558780959d5130b32e1a...</td>\n",
       "      <td>10000</td>\n",
       "      <td>NaN</td>\n",
       "      <td>NaN</td>\n",
       "    </tr>\n",
       "  </tbody>\n",
       "</table>\n",
       "</div>"
      ],
      "text/plain": [
       "      timestamp                           user_id  \\\n",
       "0  1.375704e+09  00003cb9076039f584a12c2036fd3602   \n",
       "1  1.374480e+09  00003cb9076039f584a12c2036fd3602   \n",
       "2  1.374480e+09  00003cb9076039f584a12c2036fd3602   \n",
       "3  1.374480e+09  00003cb9076039f584a12c2036fd3602   \n",
       "4  1.374480e+09  00003cb9076039f584a12c2036fd3602   \n",
       "\n",
       "                                           URL_click geo_id category_id  price  \n",
       "0  /gate/cart-list.xml?sk=y5fc6079b758f5a4e3646a8...  10000         NaN    NaN  \n",
       "1  /gate/cart-list.xml?sk=yd6558780959d5130b32e1a...  10000         NaN    NaN  \n",
       "2  /gate/cart-list.xml?sk=yd6558780959d5130b32e1a...  10000         NaN    NaN  \n",
       "3  /gate/cart-list.xml?sk=yd6558780959d5130b32e1a...  10000         NaN    NaN  \n",
       "4  /gate/cart-list.xml?sk=yd6558780959d5130b32e1a...  10000         NaN    NaN  "
      ]
     },
     "execution_count": 3,
     "metadata": {},
     "output_type": "execute_result"
    }
   ],
   "source": [
    "rfm.head()"
   ]
  },
  {
   "cell_type": "code",
   "execution_count": 4,
   "id": "c13e6a15",
   "metadata": {},
   "outputs": [],
   "source": [
    "rfm['Date'] = pd.to_datetime(rfm.timestamp, unit = 's')"
   ]
  },
  {
   "cell_type": "code",
   "execution_count": 5,
   "id": "f97073a8",
   "metadata": {},
   "outputs": [
    {
     "data": {
      "text/plain": [
       "Timestamp('2013-12-31 19:58:37')"
      ]
     },
     "execution_count": 5,
     "metadata": {},
     "output_type": "execute_result"
    }
   ],
   "source": [
    "rfm.Date.max()"
   ]
  },
  {
   "cell_type": "markdown",
   "id": "f6b4977c",
   "metadata": {},
   "source": [
    "Последняя дата указана в декабре 2013 года.\n",
    "\n",
    "Текущий год 2022, чтобы небыло огромных значений давности перехода в recency колонке, расчетным днем будет следующий, после последнего перехода."
   ]
  },
  {
   "cell_type": "code",
   "execution_count": 6,
   "id": "b0364ee9",
   "metadata": {},
   "outputs": [],
   "source": [
    "nw = rfm.Date.max() + timedelta(days = 1)"
   ]
  },
  {
   "cell_type": "code",
   "execution_count": 7,
   "id": "e4408cc2",
   "metadata": {},
   "outputs": [
    {
     "data": {
      "text/html": [
       "<div>\n",
       "<style scoped>\n",
       "    .dataframe tbody tr th:only-of-type {\n",
       "        vertical-align: middle;\n",
       "    }\n",
       "\n",
       "    .dataframe tbody tr th {\n",
       "        vertical-align: top;\n",
       "    }\n",
       "\n",
       "    .dataframe thead th {\n",
       "        text-align: right;\n",
       "    }\n",
       "</style>\n",
       "<table border=\"1\" class=\"dataframe\">\n",
       "  <thead>\n",
       "    <tr style=\"text-align: right;\">\n",
       "      <th></th>\n",
       "      <th>timestamp</th>\n",
       "      <th>user_id</th>\n",
       "      <th>URL_click</th>\n",
       "      <th>geo_id</th>\n",
       "      <th>category_id</th>\n",
       "      <th>price</th>\n",
       "      <th>Date</th>\n",
       "    </tr>\n",
       "  </thead>\n",
       "  <tbody>\n",
       "    <tr>\n",
       "      <th>10007142</th>\n",
       "      <td>1.361890e+09</td>\n",
       "      <td>fffffdbc5c7fbe34b444d9c213bba286</td>\n",
       "      <td>/offers.xml?modelid=8464553&amp;hid=4165204&amp;how=ap...</td>\n",
       "      <td>213.0</td>\n",
       "      <td>4165204</td>\n",
       "      <td>NaN</td>\n",
       "      <td>2013-02-26 14:42:55</td>\n",
       "    </tr>\n",
       "    <tr>\n",
       "      <th>10007143</th>\n",
       "      <td>1.361890e+09</td>\n",
       "      <td>fffffdbc5c7fbe34b444d9c213bba286</td>\n",
       "      <td>/offers.xml?modelid=981213&amp;hid=294661&amp;hyperid=...</td>\n",
       "      <td>213.0</td>\n",
       "      <td>294661</td>\n",
       "      <td>NaN</td>\n",
       "      <td>2013-02-26 14:41:14</td>\n",
       "    </tr>\n",
       "    <tr>\n",
       "      <th>10007144</th>\n",
       "      <td>1.361889e+09</td>\n",
       "      <td>fffffdbc5c7fbe34b444d9c213bba286</td>\n",
       "      <td>/offers.xml?modelid=981770&amp;hid=91033&amp;how=aprice</td>\n",
       "      <td>213.0</td>\n",
       "      <td>91033</td>\n",
       "      <td>NaN</td>\n",
       "      <td>2013-02-26 14:36:03</td>\n",
       "    </tr>\n",
       "    <tr>\n",
       "      <th>10007145</th>\n",
       "      <td>1.361889e+09</td>\n",
       "      <td>fffffdbc5c7fbe34b444d9c213bba286</td>\n",
       "      <td>/offers.xml?modelid=981770&amp;hid=91033&amp;how=aprice</td>\n",
       "      <td>213.0</td>\n",
       "      <td>91033</td>\n",
       "      <td>NaN</td>\n",
       "      <td>2013-02-26 14:36:07</td>\n",
       "    </tr>\n",
       "    <tr>\n",
       "      <th>10007146</th>\n",
       "      <td>NaN</td>\n",
       "      <td>NaN</td>\n",
       "      <td>NaN</td>\n",
       "      <td>NaN</td>\n",
       "      <td>NaN</td>\n",
       "      <td>NaN</td>\n",
       "      <td>NaT</td>\n",
       "    </tr>\n",
       "  </tbody>\n",
       "</table>\n",
       "</div>"
      ],
      "text/plain": [
       "             timestamp                           user_id  \\\n",
       "10007142  1.361890e+09  fffffdbc5c7fbe34b444d9c213bba286   \n",
       "10007143  1.361890e+09  fffffdbc5c7fbe34b444d9c213bba286   \n",
       "10007144  1.361889e+09  fffffdbc5c7fbe34b444d9c213bba286   \n",
       "10007145  1.361889e+09  fffffdbc5c7fbe34b444d9c213bba286   \n",
       "10007146           NaN                               NaN   \n",
       "\n",
       "                                                  URL_click geo_id  \\\n",
       "10007142  /offers.xml?modelid=8464553&hid=4165204&how=ap...  213.0   \n",
       "10007143  /offers.xml?modelid=981213&hid=294661&hyperid=...  213.0   \n",
       "10007144    /offers.xml?modelid=981770&hid=91033&how=aprice  213.0   \n",
       "10007145    /offers.xml?modelid=981770&hid=91033&how=aprice  213.0   \n",
       "10007146                                                NaN    NaN   \n",
       "\n",
       "         category_id  price                Date  \n",
       "10007142     4165204    NaN 2013-02-26 14:42:55  \n",
       "10007143      294661    NaN 2013-02-26 14:41:14  \n",
       "10007144       91033    NaN 2013-02-26 14:36:03  \n",
       "10007145       91033    NaN 2013-02-26 14:36:07  \n",
       "10007146         NaN    NaN                 NaT  "
      ]
     },
     "execution_count": 7,
     "metadata": {},
     "output_type": "execute_result"
    }
   ],
   "source": [
    "rfm.tail()"
   ]
  },
  {
   "cell_type": "code",
   "execution_count": 8,
   "id": "6ca4bd63",
   "metadata": {},
   "outputs": [],
   "source": [
    "rfm.drop(rfm[rfm.user_id.isna()].index, inplace = True)"
   ]
  },
  {
   "cell_type": "markdown",
   "id": "339818cd",
   "metadata": {},
   "source": [
    "Для входа в категорию \"Пользователь\" буду считать хотябы 1 переход."
   ]
  },
  {
   "cell_type": "markdown",
   "id": "e75eec15",
   "metadata": {},
   "source": [
    "Проверяю, есть ли пропущиенные значения в колонке с click хитами."
   ]
  },
  {
   "cell_type": "code",
   "execution_count": 9,
   "id": "e31a1f92",
   "metadata": {},
   "outputs": [
    {
     "data": {
      "text/plain": [
       "363313"
      ]
     },
     "execution_count": 9,
     "metadata": {},
     "output_type": "execute_result"
    }
   ],
   "source": [
    "rfm[~rfm.price.isna()].price.count()"
   ]
  },
  {
   "cell_type": "code",
   "execution_count": 10,
   "id": "c95e3821",
   "metadata": {},
   "outputs": [
    {
     "data": {
      "text/plain": [
       "363313"
      ]
     },
     "execution_count": 10,
     "metadata": {},
     "output_type": "execute_result"
    }
   ],
   "source": [
    "rfm[rfm.URL_click == 'click'].price.count()"
   ]
  },
  {
   "cell_type": "code",
   "execution_count": 34,
   "id": "4de49ded",
   "metadata": {},
   "outputs": [
    {
     "data": {
      "text/plain": [
       "array([nan])"
      ]
     },
     "execution_count": 34,
     "metadata": {},
     "output_type": "execute_result"
    }
   ],
   "source": [
    "rfm[rfm.URL_click != 'click'].price.unique()"
   ]
  },
  {
   "cell_type": "code",
   "execution_count": 11,
   "id": "df485e73",
   "metadata": {},
   "outputs": [],
   "source": [
    "rfm_stats = rfm[rfm.URL_click == 'click'].groupby('user_id').agg({'Date' : lambda x: (nw - x.max()).days,\n",
    "                                                     'URL_click' : 'count',\n",
    "                                                     'price' : 'sum'})"
   ]
  },
  {
   "cell_type": "code",
   "execution_count": 12,
   "id": "9bc04498",
   "metadata": {},
   "outputs": [
    {
     "data": {
      "text/html": [
       "<div>\n",
       "<style scoped>\n",
       "    .dataframe tbody tr th:only-of-type {\n",
       "        vertical-align: middle;\n",
       "    }\n",
       "\n",
       "    .dataframe tbody tr th {\n",
       "        vertical-align: top;\n",
       "    }\n",
       "\n",
       "    .dataframe thead th {\n",
       "        text-align: right;\n",
       "    }\n",
       "</style>\n",
       "<table border=\"1\" class=\"dataframe\">\n",
       "  <thead>\n",
       "    <tr style=\"text-align: right;\">\n",
       "      <th></th>\n",
       "      <th>Date</th>\n",
       "      <th>URL_click</th>\n",
       "      <th>price</th>\n",
       "    </tr>\n",
       "    <tr>\n",
       "      <th>user_id</th>\n",
       "      <th></th>\n",
       "      <th></th>\n",
       "      <th></th>\n",
       "    </tr>\n",
       "  </thead>\n",
       "  <tbody>\n",
       "    <tr>\n",
       "      <th>00023fcc5c93cb4674bdad0d448272e6</th>\n",
       "      <td>70</td>\n",
       "      <td>25</td>\n",
       "      <td>425.0</td>\n",
       "    </tr>\n",
       "    <tr>\n",
       "      <th>00029bdb868e12bb62b8c574b274dbb7</th>\n",
       "      <td>363</td>\n",
       "      <td>5</td>\n",
       "      <td>90.0</td>\n",
       "    </tr>\n",
       "    <tr>\n",
       "      <th>00035d94fcd7e814d56531cf95b81ceb</th>\n",
       "      <td>150</td>\n",
       "      <td>3</td>\n",
       "      <td>159.0</td>\n",
       "    </tr>\n",
       "    <tr>\n",
       "      <th>00045ac92fb4ed78bc66c40f52775acd</th>\n",
       "      <td>59</td>\n",
       "      <td>5</td>\n",
       "      <td>50.0</td>\n",
       "    </tr>\n",
       "    <tr>\n",
       "      <th>00056ac58d63ef1d4b5fb73324bf845d</th>\n",
       "      <td>93</td>\n",
       "      <td>11</td>\n",
       "      <td>145.0</td>\n",
       "    </tr>\n",
       "  </tbody>\n",
       "</table>\n",
       "</div>"
      ],
      "text/plain": [
       "                                  Date  URL_click  price\n",
       "user_id                                                 \n",
       "00023fcc5c93cb4674bdad0d448272e6    70         25  425.0\n",
       "00029bdb868e12bb62b8c574b274dbb7   363          5   90.0\n",
       "00035d94fcd7e814d56531cf95b81ceb   150          3  159.0\n",
       "00045ac92fb4ed78bc66c40f52775acd    59          5   50.0\n",
       "00056ac58d63ef1d4b5fb73324bf845d    93         11  145.0"
      ]
     },
     "execution_count": 12,
     "metadata": {},
     "output_type": "execute_result"
    }
   ],
   "source": [
    "rfm_stats.head()"
   ]
  },
  {
   "cell_type": "code",
   "execution_count": 13,
   "id": "7192ca74",
   "metadata": {},
   "outputs": [],
   "source": [
    "rfm_stats.rename(columns = {'Date' : 'recency', 'URL_click' : 'frequency', 'price' : 'monetary'}, inplace = True)"
   ]
  },
  {
   "cell_type": "code",
   "execution_count": 14,
   "id": "022bf44e",
   "metadata": {},
   "outputs": [
    {
     "data": {
      "text/html": [
       "<div>\n",
       "<style scoped>\n",
       "    .dataframe tbody tr th:only-of-type {\n",
       "        vertical-align: middle;\n",
       "    }\n",
       "\n",
       "    .dataframe tbody tr th {\n",
       "        vertical-align: top;\n",
       "    }\n",
       "\n",
       "    .dataframe thead th {\n",
       "        text-align: right;\n",
       "    }\n",
       "</style>\n",
       "<table border=\"1\" class=\"dataframe\">\n",
       "  <thead>\n",
       "    <tr style=\"text-align: right;\">\n",
       "      <th></th>\n",
       "      <th>recency</th>\n",
       "      <th>frequency</th>\n",
       "      <th>monetary</th>\n",
       "    </tr>\n",
       "    <tr>\n",
       "      <th>user_id</th>\n",
       "      <th></th>\n",
       "      <th></th>\n",
       "      <th></th>\n",
       "    </tr>\n",
       "  </thead>\n",
       "  <tbody>\n",
       "    <tr>\n",
       "      <th>00023fcc5c93cb4674bdad0d448272e6</th>\n",
       "      <td>70</td>\n",
       "      <td>25</td>\n",
       "      <td>425.0</td>\n",
       "    </tr>\n",
       "    <tr>\n",
       "      <th>00029bdb868e12bb62b8c574b274dbb7</th>\n",
       "      <td>363</td>\n",
       "      <td>5</td>\n",
       "      <td>90.0</td>\n",
       "    </tr>\n",
       "    <tr>\n",
       "      <th>00035d94fcd7e814d56531cf95b81ceb</th>\n",
       "      <td>150</td>\n",
       "      <td>3</td>\n",
       "      <td>159.0</td>\n",
       "    </tr>\n",
       "    <tr>\n",
       "      <th>00045ac92fb4ed78bc66c40f52775acd</th>\n",
       "      <td>59</td>\n",
       "      <td>5</td>\n",
       "      <td>50.0</td>\n",
       "    </tr>\n",
       "    <tr>\n",
       "      <th>00056ac58d63ef1d4b5fb73324bf845d</th>\n",
       "      <td>93</td>\n",
       "      <td>11</td>\n",
       "      <td>145.0</td>\n",
       "    </tr>\n",
       "  </tbody>\n",
       "</table>\n",
       "</div>"
      ],
      "text/plain": [
       "                                  recency  frequency  monetary\n",
       "user_id                                                       \n",
       "00023fcc5c93cb4674bdad0d448272e6       70         25     425.0\n",
       "00029bdb868e12bb62b8c574b274dbb7      363          5      90.0\n",
       "00035d94fcd7e814d56531cf95b81ceb      150          3     159.0\n",
       "00045ac92fb4ed78bc66c40f52775acd       59          5      50.0\n",
       "00056ac58d63ef1d4b5fb73324bf845d       93         11     145.0"
      ]
     },
     "execution_count": 14,
     "metadata": {},
     "output_type": "execute_result"
    }
   ],
   "source": [
    "rfm_stats.head()"
   ]
  },
  {
   "cell_type": "code",
   "execution_count": 15,
   "id": "0ff308b7",
   "metadata": {},
   "outputs": [
    {
     "data": {
      "text/html": [
       "<div>\n",
       "<style scoped>\n",
       "    .dataframe tbody tr th:only-of-type {\n",
       "        vertical-align: middle;\n",
       "    }\n",
       "\n",
       "    .dataframe tbody tr th {\n",
       "        vertical-align: top;\n",
       "    }\n",
       "\n",
       "    .dataframe thead th {\n",
       "        text-align: right;\n",
       "    }\n",
       "</style>\n",
       "<table border=\"1\" class=\"dataframe\">\n",
       "  <thead>\n",
       "    <tr style=\"text-align: right;\">\n",
       "      <th></th>\n",
       "      <th>recency</th>\n",
       "      <th>frequency</th>\n",
       "      <th>monetary</th>\n",
       "    </tr>\n",
       "  </thead>\n",
       "  <tbody>\n",
       "    <tr>\n",
       "      <th>count</th>\n",
       "      <td>55277.000000</td>\n",
       "      <td>55277.000000</td>\n",
       "      <td>55277.000000</td>\n",
       "    </tr>\n",
       "    <tr>\n",
       "      <th>mean</th>\n",
       "      <td>155.282161</td>\n",
       "      <td>6.572589</td>\n",
       "      <td>185.546719</td>\n",
       "    </tr>\n",
       "    <tr>\n",
       "      <th>std</th>\n",
       "      <td>112.010076</td>\n",
       "      <td>20.733833</td>\n",
       "      <td>572.142003</td>\n",
       "    </tr>\n",
       "    <tr>\n",
       "      <th>min</th>\n",
       "      <td>1.000000</td>\n",
       "      <td>1.000000</td>\n",
       "      <td>0.000000</td>\n",
       "    </tr>\n",
       "    <tr>\n",
       "      <th>25%</th>\n",
       "      <td>49.000000</td>\n",
       "      <td>1.000000</td>\n",
       "      <td>20.000000</td>\n",
       "    </tr>\n",
       "    <tr>\n",
       "      <th>50%</th>\n",
       "      <td>141.000000</td>\n",
       "      <td>2.000000</td>\n",
       "      <td>50.000000</td>\n",
       "    </tr>\n",
       "    <tr>\n",
       "      <th>75%</th>\n",
       "      <td>256.000000</td>\n",
       "      <td>5.000000</td>\n",
       "      <td>154.000000</td>\n",
       "    </tr>\n",
       "    <tr>\n",
       "      <th>max</th>\n",
       "      <td>365.000000</td>\n",
       "      <td>2356.000000</td>\n",
       "      <td>37020.000000</td>\n",
       "    </tr>\n",
       "  </tbody>\n",
       "</table>\n",
       "</div>"
      ],
      "text/plain": [
       "            recency     frequency      monetary\n",
       "count  55277.000000  55277.000000  55277.000000\n",
       "mean     155.282161      6.572589    185.546719\n",
       "std      112.010076     20.733833    572.142003\n",
       "min        1.000000      1.000000      0.000000\n",
       "25%       49.000000      1.000000     20.000000\n",
       "50%      141.000000      2.000000     50.000000\n",
       "75%      256.000000      5.000000    154.000000\n",
       "max      365.000000   2356.000000  37020.000000"
      ]
     },
     "execution_count": 15,
     "metadata": {},
     "output_type": "execute_result"
    }
   ],
   "source": [
    "rfm_stats.describe()"
   ]
  },
  {
   "cell_type": "code",
   "execution_count": 35,
   "id": "8bd38ea8",
   "metadata": {},
   "outputs": [
    {
     "data": {
      "text/html": [
       "<div>\n",
       "<style scoped>\n",
       "    .dataframe tbody tr th:only-of-type {\n",
       "        vertical-align: middle;\n",
       "    }\n",
       "\n",
       "    .dataframe tbody tr th {\n",
       "        vertical-align: top;\n",
       "    }\n",
       "\n",
       "    .dataframe thead th {\n",
       "        text-align: right;\n",
       "    }\n",
       "</style>\n",
       "<table border=\"1\" class=\"dataframe\">\n",
       "  <thead>\n",
       "    <tr style=\"text-align: right;\">\n",
       "      <th></th>\n",
       "      <th>recency</th>\n",
       "      <th>frequency</th>\n",
       "      <th>monetary</th>\n",
       "    </tr>\n",
       "  </thead>\n",
       "  <tbody>\n",
       "    <tr>\n",
       "      <th>count</th>\n",
       "      <td>55277.000000</td>\n",
       "      <td>55277.000000</td>\n",
       "      <td>55277.000000</td>\n",
       "    </tr>\n",
       "    <tr>\n",
       "      <th>mean</th>\n",
       "      <td>155.282161</td>\n",
       "      <td>6.572589</td>\n",
       "      <td>185.546719</td>\n",
       "    </tr>\n",
       "    <tr>\n",
       "      <th>std</th>\n",
       "      <td>112.010076</td>\n",
       "      <td>20.733833</td>\n",
       "      <td>572.142003</td>\n",
       "    </tr>\n",
       "    <tr>\n",
       "      <th>min</th>\n",
       "      <td>1.000000</td>\n",
       "      <td>1.000000</td>\n",
       "      <td>0.000000</td>\n",
       "    </tr>\n",
       "    <tr>\n",
       "      <th>20%</th>\n",
       "      <td>35.000000</td>\n",
       "      <td>1.000000</td>\n",
       "      <td>12.000000</td>\n",
       "    </tr>\n",
       "    <tr>\n",
       "      <th>50%</th>\n",
       "      <td>141.000000</td>\n",
       "      <td>2.000000</td>\n",
       "      <td>50.000000</td>\n",
       "    </tr>\n",
       "    <tr>\n",
       "      <th>80%</th>\n",
       "      <td>276.000000</td>\n",
       "      <td>7.000000</td>\n",
       "      <td>205.000000</td>\n",
       "    </tr>\n",
       "    <tr>\n",
       "      <th>96%</th>\n",
       "      <td>347.000000</td>\n",
       "      <td>29.000000</td>\n",
       "      <td>869.000000</td>\n",
       "    </tr>\n",
       "    <tr>\n",
       "      <th>max</th>\n",
       "      <td>365.000000</td>\n",
       "      <td>2356.000000</td>\n",
       "      <td>37020.000000</td>\n",
       "    </tr>\n",
       "  </tbody>\n",
       "</table>\n",
       "</div>"
      ],
      "text/plain": [
       "            recency     frequency      monetary\n",
       "count  55277.000000  55277.000000  55277.000000\n",
       "mean     155.282161      6.572589    185.546719\n",
       "std      112.010076     20.733833    572.142003\n",
       "min        1.000000      1.000000      0.000000\n",
       "20%       35.000000      1.000000     12.000000\n",
       "50%      141.000000      2.000000     50.000000\n",
       "80%      276.000000      7.000000    205.000000\n",
       "96%      347.000000     29.000000    869.000000\n",
       "max      365.000000   2356.000000  37020.000000"
      ]
     },
     "execution_count": 35,
     "metadata": {},
     "output_type": "execute_result"
    }
   ],
   "source": [
    "rfm_stats.describe(percentiles=[0.2, 0.5, 0.8, 0.96])"
   ]
  },
  {
   "cell_type": "markdown",
   "id": "d153d142",
   "metadata": {},
   "source": [
    "## Monetary | frequency | recency\n",
    "\n",
    "Распределяю данные по категориям.\n",
    "\n",
    "1 категория - 1000 - 29 - 35 (~96%)\n",
    "\n",
    "2 категория - 205 - 7 - 141 (80%)\n",
    "\n",
    "3 категория - 50 - 2 - 276 (50%)\n",
    "\n",
    "4 категория - 12 - 1 - 347 (20%)"
   ]
  },
  {
   "cell_type": "code",
   "execution_count": 26,
   "id": "44a5163a",
   "metadata": {},
   "outputs": [],
   "source": [
    "q = rfm_stats.copy()"
   ]
  },
  {
   "cell_type": "code",
   "execution_count": 27,
   "id": "37fec1ee",
   "metadata": {},
   "outputs": [],
   "source": [
    "def Mon(x):\n",
    "    if x > 1000:\n",
    "        return 1\n",
    "    elif x > 205:\n",
    "        return 2\n",
    "    elif x > 50:\n",
    "        return 3\n",
    "    else:\n",
    "        return 4\n",
    "    \n",
    "def Freq(x):\n",
    "    if x > 29:\n",
    "        return 1\n",
    "    elif x > 7:\n",
    "        return 2\n",
    "    elif x > 2:\n",
    "        return 3\n",
    "    else:\n",
    "        return 4\n",
    "\n",
    "def Rec(x):\n",
    "    if x > 347:\n",
    "        return 4\n",
    "    elif x > 276:\n",
    "        return 3\n",
    "    elif x > 141:\n",
    "        return 2\n",
    "    else:\n",
    "        return 1"
   ]
  },
  {
   "cell_type": "code",
   "execution_count": 29,
   "id": "c419e09c",
   "metadata": {},
   "outputs": [],
   "source": [
    "q['Mrank'] = q.monetary.apply(Mon)"
   ]
  },
  {
   "cell_type": "code",
   "execution_count": 30,
   "id": "09046054",
   "metadata": {},
   "outputs": [],
   "source": [
    "q['Frank'] = q.frequency.apply(Freq)"
   ]
  },
  {
   "cell_type": "code",
   "execution_count": 31,
   "id": "2192c1c3",
   "metadata": {},
   "outputs": [],
   "source": [
    "q['Rrank'] = q.recency.apply(Rec)"
   ]
  },
  {
   "cell_type": "code",
   "execution_count": 32,
   "id": "a3d92584",
   "metadata": {},
   "outputs": [
    {
     "data": {
      "text/html": [
       "<div>\n",
       "<style scoped>\n",
       "    .dataframe tbody tr th:only-of-type {\n",
       "        vertical-align: middle;\n",
       "    }\n",
       "\n",
       "    .dataframe tbody tr th {\n",
       "        vertical-align: top;\n",
       "    }\n",
       "\n",
       "    .dataframe thead th {\n",
       "        text-align: right;\n",
       "    }\n",
       "</style>\n",
       "<table border=\"1\" class=\"dataframe\">\n",
       "  <thead>\n",
       "    <tr style=\"text-align: right;\">\n",
       "      <th></th>\n",
       "      <th>recency</th>\n",
       "      <th>frequency</th>\n",
       "      <th>monetary</th>\n",
       "      <th>Mrank</th>\n",
       "      <th>Frank</th>\n",
       "      <th>Rrank</th>\n",
       "    </tr>\n",
       "    <tr>\n",
       "      <th>user_id</th>\n",
       "      <th></th>\n",
       "      <th></th>\n",
       "      <th></th>\n",
       "      <th></th>\n",
       "      <th></th>\n",
       "      <th></th>\n",
       "    </tr>\n",
       "  </thead>\n",
       "  <tbody>\n",
       "    <tr>\n",
       "      <th>00bc44a61dafb62e5c2b54200573796e</th>\n",
       "      <td>69</td>\n",
       "      <td>99</td>\n",
       "      <td>1417.0</td>\n",
       "      <td>1</td>\n",
       "      <td>1</td>\n",
       "      <td>1</td>\n",
       "    </tr>\n",
       "    <tr>\n",
       "      <th>00e17c2f971bd28c7836d7352d383edd</th>\n",
       "      <td>2</td>\n",
       "      <td>63</td>\n",
       "      <td>1959.0</td>\n",
       "      <td>1</td>\n",
       "      <td>1</td>\n",
       "      <td>1</td>\n",
       "    </tr>\n",
       "    <tr>\n",
       "      <th>00f3e86e4a9162e900e8dc5afeca0b94</th>\n",
       "      <td>54</td>\n",
       "      <td>36</td>\n",
       "      <td>1031.0</td>\n",
       "      <td>1</td>\n",
       "      <td>1</td>\n",
       "      <td>1</td>\n",
       "    </tr>\n",
       "    <tr>\n",
       "      <th>019112da0af39f39823cb27b03219d86</th>\n",
       "      <td>37</td>\n",
       "      <td>32</td>\n",
       "      <td>1543.0</td>\n",
       "      <td>1</td>\n",
       "      <td>1</td>\n",
       "      <td>1</td>\n",
       "    </tr>\n",
       "    <tr>\n",
       "      <th>01bb3fe2b7ff05ec3210f938e5258bcb</th>\n",
       "      <td>9</td>\n",
       "      <td>89</td>\n",
       "      <td>2892.0</td>\n",
       "      <td>1</td>\n",
       "      <td>1</td>\n",
       "      <td>1</td>\n",
       "    </tr>\n",
       "    <tr>\n",
       "      <th>...</th>\n",
       "      <td>...</td>\n",
       "      <td>...</td>\n",
       "      <td>...</td>\n",
       "      <td>...</td>\n",
       "      <td>...</td>\n",
       "      <td>...</td>\n",
       "    </tr>\n",
       "    <tr>\n",
       "      <th>fed97e44daeaa8bbd933035495bc567a</th>\n",
       "      <td>358</td>\n",
       "      <td>1</td>\n",
       "      <td>10.0</td>\n",
       "      <td>4</td>\n",
       "      <td>4</td>\n",
       "      <td>4</td>\n",
       "    </tr>\n",
       "    <tr>\n",
       "      <th>ff3784e4baa068e3232387b358aa98e5</th>\n",
       "      <td>362</td>\n",
       "      <td>1</td>\n",
       "      <td>10.0</td>\n",
       "      <td>4</td>\n",
       "      <td>4</td>\n",
       "      <td>4</td>\n",
       "    </tr>\n",
       "    <tr>\n",
       "      <th>ff7adfd79ff3bb28746caa61ca652c01</th>\n",
       "      <td>362</td>\n",
       "      <td>1</td>\n",
       "      <td>17.0</td>\n",
       "      <td>4</td>\n",
       "      <td>4</td>\n",
       "      <td>4</td>\n",
       "    </tr>\n",
       "    <tr>\n",
       "      <th>ffd4fbd2e242cfb4b00df1f457d2b2b2</th>\n",
       "      <td>363</td>\n",
       "      <td>1</td>\n",
       "      <td>5.0</td>\n",
       "      <td>4</td>\n",
       "      <td>4</td>\n",
       "      <td>4</td>\n",
       "    </tr>\n",
       "    <tr>\n",
       "      <th>ffe62744e301ed8a623029aa383c8af1</th>\n",
       "      <td>361</td>\n",
       "      <td>1</td>\n",
       "      <td>34.0</td>\n",
       "      <td>4</td>\n",
       "      <td>4</td>\n",
       "      <td>4</td>\n",
       "    </tr>\n",
       "  </tbody>\n",
       "</table>\n",
       "<p>55277 rows × 6 columns</p>\n",
       "</div>"
      ],
      "text/plain": [
       "                                  recency  frequency  monetary  Mrank  Frank  \\\n",
       "user_id                                                                        \n",
       "00bc44a61dafb62e5c2b54200573796e       69         99    1417.0      1      1   \n",
       "00e17c2f971bd28c7836d7352d383edd        2         63    1959.0      1      1   \n",
       "00f3e86e4a9162e900e8dc5afeca0b94       54         36    1031.0      1      1   \n",
       "019112da0af39f39823cb27b03219d86       37         32    1543.0      1      1   \n",
       "01bb3fe2b7ff05ec3210f938e5258bcb        9         89    2892.0      1      1   \n",
       "...                                   ...        ...       ...    ...    ...   \n",
       "fed97e44daeaa8bbd933035495bc567a      358          1      10.0      4      4   \n",
       "ff3784e4baa068e3232387b358aa98e5      362          1      10.0      4      4   \n",
       "ff7adfd79ff3bb28746caa61ca652c01      362          1      17.0      4      4   \n",
       "ffd4fbd2e242cfb4b00df1f457d2b2b2      363          1       5.0      4      4   \n",
       "ffe62744e301ed8a623029aa383c8af1      361          1      34.0      4      4   \n",
       "\n",
       "                                  Rrank  \n",
       "user_id                                  \n",
       "00bc44a61dafb62e5c2b54200573796e      1  \n",
       "00e17c2f971bd28c7836d7352d383edd      1  \n",
       "00f3e86e4a9162e900e8dc5afeca0b94      1  \n",
       "019112da0af39f39823cb27b03219d86      1  \n",
       "01bb3fe2b7ff05ec3210f938e5258bcb      1  \n",
       "...                                 ...  \n",
       "fed97e44daeaa8bbd933035495bc567a      4  \n",
       "ff3784e4baa068e3232387b358aa98e5      4  \n",
       "ff7adfd79ff3bb28746caa61ca652c01      4  \n",
       "ffd4fbd2e242cfb4b00df1f457d2b2b2      4  \n",
       "ffe62744e301ed8a623029aa383c8af1      4  \n",
       "\n",
       "[55277 rows x 6 columns]"
      ]
     },
     "execution_count": 32,
     "metadata": {},
     "output_type": "execute_result"
    }
   ],
   "source": [
    "q.sort_values(['Mrank', 'Frank', 'Rrank'])"
   ]
  },
  {
   "cell_type": "code",
   "execution_count": null,
   "id": "1853eb04",
   "metadata": {},
   "outputs": [],
   "source": [
    "q[q.Frank == 3]"
   ]
  },
  {
   "cell_type": "code",
   "execution_count": null,
   "id": "59407147",
   "metadata": {},
   "outputs": [],
   "source": [
    "q[(q.Rrank == 4) & (q.Frank == 2)]"
   ]
  },
  {
   "cell_type": "markdown",
   "id": "50d65be1",
   "metadata": {},
   "source": [
    "#### Ушедшими, буду считать людей с Rrank == 4"
   ]
  },
  {
   "cell_type": "markdown",
   "id": "4b81f598",
   "metadata": {},
   "source": [
    "### Главные задачи\n",
    "### 1) Уменьшить отток пользователей \n",
    "### 2) Увеличить частоту контакта"
   ]
  },
  {
   "cell_type": "code",
   "execution_count": null,
   "id": "b0be38cb",
   "metadata": {},
   "outputs": [],
   "source": [
    "q[q.Rrank == 3]"
   ]
  },
  {
   "cell_type": "markdown",
   "id": "6613b2c3",
   "metadata": {},
   "source": [
    "## Часто переходящие пользователи на грани ухода\n",
    "\n",
    "Необходимо сделать рассылку на новый товар/дать скидку/новое предложение"
   ]
  },
  {
   "cell_type": "code",
   "execution_count": null,
   "id": "3b11b2e3",
   "metadata": {
    "scrolled": true
   },
   "outputs": [],
   "source": [
    "q[(q.Rrank == 3) & ((q.Frank == 1) | (q.Frank == 2))]"
   ]
  },
  {
   "cell_type": "markdown",
   "id": "7e93392e",
   "metadata": {},
   "source": [
    "## Ушедшие, но часто переходящие пользователи\n",
    "\n",
    "Необходимо узнать причину ухода "
   ]
  },
  {
   "cell_type": "code",
   "execution_count": null,
   "id": "63635348",
   "metadata": {},
   "outputs": [],
   "source": [
    "q[(q.Rrank == 4) & ((q.Frank == 1) | (q.Frank == 2))]"
   ]
  },
  {
   "cell_type": "markdown",
   "id": "00467c03",
   "metadata": {},
   "source": [
    "## недавно перешедшие по ссылке пользователи\n",
    "\n",
    "нужно стимулировать новые переходы, предложением дополняющих товаров"
   ]
  },
  {
   "cell_type": "code",
   "execution_count": null,
   "id": "37348f9a",
   "metadata": {},
   "outputs": [],
   "source": [
    "q[((q.Rrank == 2) | (q.Rrank == 1)) & ((q.Frank == 2) | (q.Frank == 1) | (q.Frank == 3))]"
   ]
  },
  {
   "cell_type": "code",
   "execution_count": null,
   "id": "7dc34fc0",
   "metadata": {},
   "outputs": [],
   "source": []
  }
 ],
 "metadata": {
  "kernelspec": {
   "display_name": "Python 3 (ipykernel)",
   "language": "python",
   "name": "python3"
  },
  "language_info": {
   "codemirror_mode": {
    "name": "ipython",
    "version": 3
   },
   "file_extension": ".py",
   "mimetype": "text/x-python",
   "name": "python",
   "nbconvert_exporter": "python",
   "pygments_lexer": "ipython3",
   "version": "3.9.5"
  }
 },
 "nbformat": 4,
 "nbformat_minor": 5
}
